{
 "cells": [
  {
   "attachments": {},
   "cell_type": "markdown",
   "id": "22b94876",
   "metadata": {},
   "source": [
    "# Parameter Analysis"
   ]
  },
  {
   "cell_type": "code",
   "execution_count": 21,
   "id": "e2305548",
   "metadata": {},
   "outputs": [],
   "source": [
    "import numpy as np\n",
    "import pandas as pd\n",
    "import matplotlib.pyplot as plt\n",
    "import statsmodels.api as sm\n",
    "from scipy import stats\n",
    "import seaborn as sns"
   ]
  },
  {
   "cell_type": "markdown",
   "id": "6e0bfde8",
   "metadata": {},
   "source": [
    "the data from previous notebook (MY_FINAL_) is imported here"
   ]
  },
  {
   "cell_type": "code",
   "execution_count": 22,
   "id": "50e91b86",
   "metadata": {},
   "outputs": [],
   "source": [
    "data = pd.read_csv(\"df_cleaned_no_outliers.csv\")"
   ]
  },
  {
   "cell_type": "markdown",
   "id": "1ad5b913",
   "metadata": {},
   "source": [
    "here we us describe to summarize the values fo the data "
   ]
  },
  {
   "cell_type": "code",
   "execution_count": 23,
   "id": "36eb7b28",
   "metadata": {},
   "outputs": [
    {
     "name": "stdout",
     "output_type": "stream",
     "text": [
      "Use describe() to summarize data\n",
      "                 ID    Sph-ABB-R    Cyl-ABB-R     Ax-ABB-R    Sph-ABB-L  \\\n",
      "count   3153.000000  3153.000000  3153.000000  3153.000000  3153.000000   \n",
      "mean   12340.344434    -0.385506    -0.306058    43.058991    -0.371154   \n",
      "std     4223.806270     1.119529     0.504942    57.634209     1.122861   \n",
      "min     6354.000000    -7.000000    -3.000000     0.000000   -12.000000   \n",
      "25%     8626.000000    -0.750000    -0.500000     0.000000    -0.500000   \n",
      "50%    11541.000000    -0.250000     0.000000     0.000000    -0.250000   \n",
      "75%    15571.000000     0.000000     0.000000    90.000000     0.000000   \n",
      "max    21678.000000     5.000000     5.000000   180.000000     4.500000   \n",
      "\n",
      "         Cyl-ABB-L     Ax-ABB-L     Sph-SR-R     Cyl-SR-R      Ax-SR-R  \\\n",
      "count  3153.000000  3153.000000  3153.000000  3153.000000  3153.000000   \n",
      "mean     -0.289724    48.888043    -0.292737    -0.158817    25.850936   \n",
      "std       0.485174    62.490871     1.025810     0.397899    51.942660   \n",
      "min      -3.000000     0.000000    -7.000000    -3.000000     0.000000   \n",
      "25%      -0.500000     0.000000    -0.500000     0.000000     0.000000   \n",
      "50%       0.000000     0.000000     0.000000     0.000000     0.000000   \n",
      "75%       0.000000    92.000000     0.000000     0.000000     0.000000   \n",
      "max       2.750000   180.000000     3.500000     5.000000   180.000000   \n",
      "\n",
      "          Sph-SR-L     Cyl-SR-L      Ax-SR-L   Sph-DIFF-R   Cyl-DIFF-R  \\\n",
      "count  3153.000000  3153.000000  3153.000000  3153.000000  3153.000000   \n",
      "mean     -0.277910    -0.138281    25.282271     0.168570     0.159610   \n",
      "std       1.022362     0.371049    52.544599     0.259362     0.253615   \n",
      "min     -12.000000    -3.000000     0.000000    -1.500000    -0.750000   \n",
      "25%      -0.500000     0.000000     0.000000     0.000000     0.000000   \n",
      "50%       0.000000     0.000000     0.000000     0.250000     0.000000   \n",
      "75%       0.000000     0.000000     0.000000     0.250000     0.250000   \n",
      "max       3.500000     2.750000   180.000000     1.750000     1.000000   \n",
      "\n",
      "         Ax-DIFF-R   Sph-DIFF-L   Cyl-DIFF-L    Ax-DIFF-L  \n",
      "count  3153.000000  3153.000000  3153.000000  3153.000000  \n",
      "mean     12.361878     0.176181     0.161592    12.736124  \n",
      "std      24.648545     0.232668     0.253884    25.129199  \n",
      "min       0.000000    -0.750000    -0.750000     0.000000  \n",
      "25%       0.000000     0.000000     0.000000     0.000000  \n",
      "50%       0.000000     0.250000     0.000000     0.000000  \n",
      "75%       9.000000     0.250000     0.250000     8.000000  \n",
      "max      90.000000     1.250000     1.000000    90.000000  \n",
      "this are the value_count for each unique value\n",
      " 0.00    1493\n",
      " 0.25    1093\n",
      " 0.50     383\n",
      " 0.75      60\n",
      " 1.00      39\n",
      "-0.25      31\n",
      "-0.75      14\n",
      "-0.50      11\n",
      " 1.25       8\n",
      "-1.25       6\n",
      " 1.50       6\n",
      "-1.00       4\n",
      "-1.50       3\n",
      " 1.75       2\n",
      "Name: Sph-DIFF-R, dtype: int64\n",
      " 0.00    1934\n",
      " 0.25     591\n",
      " 0.50     396\n",
      " 0.75     145\n",
      " 1.00      60\n",
      "-0.25      13\n",
      "-0.50      10\n",
      "-0.75       4\n",
      "Name: Cyl-DIFF-R, dtype: int64\n",
      " 0.00    1485\n",
      " 0.25    1085\n",
      " 0.50     414\n",
      " 0.75      82\n",
      "-0.25      29\n",
      " 1.00      26\n",
      "-0.50      12\n",
      "-0.75      11\n",
      " 1.25       9\n",
      "Name: Sph-DIFF-L, dtype: int64\n",
      " 0.00    1934\n",
      " 0.25     570\n",
      " 0.50     421\n",
      " 0.75     148\n",
      " 1.00      56\n",
      "-0.25      10\n",
      "-0.50      10\n",
      "-0.75       4\n",
      "Name: Cyl-DIFF-L, dtype: int64\n"
     ]
    }
   ],
   "source": [
    "print(\"Use describe() to summarize data\")\n",
    "print(data.describe(include='all'))\n",
    "\n",
    "print(\"this are the value_count for each unique value\")\n",
    "print(data['Sph-DIFF-R'].value_counts())\n",
    "print(data['Cyl-DIFF-R'].value_counts())\n",
    "print(data['Sph-DIFF-L'].value_counts())\n",
    "print(data['Cyl-DIFF-L'].value_counts())\n"
   ]
  },
  {
   "cell_type": "markdown",
   "id": "e711c165",
   "metadata": {},
   "source": [
    "now boxplot is created to visualize th data and the image is saved to the desiginated path"
   ]
  },
  {
   "cell_type": "code",
   "execution_count": 3,
   "id": "a1501f62",
   "metadata": {},
   "outputs": [
    {
     "data": {
      "text/plain": [
       "'C:/forus data/PROJECT 1/box_plot.docx'"
      ]
     },
     "execution_count": 3,
     "metadata": {},
     "output_type": "execute_result"
    }
   ],
   "source": [
    "import matplotlib.pyplot as plt\n",
    "import seaborn as sns\n",
    "import pandas as pd\n",
    "\n",
    "# Set the style of seaborn\n",
    "sns.set(style=\"whitegrid\")\n",
    "\n",
    "# Create a figure and axes\n",
    "plt.figure(figsize=(12, 8))\n",
    "\n",
    "# Melt the DataFrame to long format for seaborn\n",
    "data_melted = data[['Sph-DIFF-R', 'Cyl-DIFF-R', 'Sph-DIFF-L', 'Cyl-DIFF-L']].melt(var_name='Columns', value_name='Values')\n",
    "\n",
    "# Create a box plot\n",
    "sns.boxplot(x='Columns', y='Values', data=data_melted)\n",
    "\n",
    "# Set title and labels\n",
    "plt.title('Box Plot for Sph-DIFF and Cyl-DIFF Values', fontsize=16)\n",
    "plt.xlabel('Columns', fontsize=14)\n",
    "plt.ylabel('Values', fontsize=14)\n",
    "\n",
    "# Save the plot as a Word file\n",
    "word_file_path = 'C:/forus data/PROJECT 1/box_plot.docx'\n",
    "from docx import Document\n",
    "from docx.shared import Inches\n",
    "\n",
    "# Create a Word document\n",
    "doc = Document()\n",
    "doc.add_heading('Box Plot for Sph-DIFF and Cyl-DIFF Values', level=1)\n",
    "\n",
    "# Save the plot\n",
    "plot_path = 'C:/forus data/PROJECT 1/box_plot.png'\n",
    "plt.savefig(plot_path, format='png')\n",
    "plt.close()\n",
    "\n",
    "# Add the plot to the Word document\n",
    "doc.add_picture(plot_path, width=Inches(6))\n",
    "\n",
    "# Save the document\n",
    "doc.save(word_file_path)\n",
    "\n",
    "word_file_path\n"
   ]
  }
 ],
 "metadata": {
  "kernelspec": {
   "display_name": "Python 3 (ipykernel)",
   "language": "python",
   "name": "python3"
  },
  "language_info": {
   "codemirror_mode": {
    "name": "ipython",
    "version": 3
   },
   "file_extension": ".py",
   "mimetype": "text/x-python",
   "name": "python",
   "nbconvert_exporter": "python",
   "pygments_lexer": "ipython3",
   "version": "3.10.9"
  }
 },
 "nbformat": 4,
 "nbformat_minor": 5
}
